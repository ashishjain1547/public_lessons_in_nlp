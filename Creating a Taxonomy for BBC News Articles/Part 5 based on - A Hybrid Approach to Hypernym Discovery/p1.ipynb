{
 "cells": [
  {
   "cell_type": "code",
   "execution_count": 42,
   "id": "65926f80-997f-4eeb-945b-8cc6c7d847d7",
   "metadata": {},
   "outputs": [],
   "source": [
    "import pandas as pd\n",
    "from sentence_transformers import SentenceTransformer\n",
    "\n",
    "from sklearn.metrics.pairwise import cosine_similarity # Expects 2D arrays as input\n",
    "from scipy.spatial.distance import cosine # Works with 1D vectors\n",
    "\n",
    "from sklearn.metrics import classification_report"
   ]
  },
  {
   "cell_type": "code",
   "execution_count": 6,
   "id": "80e9cded-abc6-4cba-9f0e-236a15030bae",
   "metadata": {},
   "outputs": [],
   "source": [
    "smodel = SentenceTransformer('distilbert-base-nli-mean-tokens')"
   ]
  },
  {
   "cell_type": "code",
   "execution_count": 2,
   "id": "7392ddfc-bac8-4d1a-9130-9d090cf3ada5",
   "metadata": {},
   "outputs": [],
   "source": [
    "df1 = pd.read_csv('bbc_news_train.csv')"
   ]
  },
  {
   "cell_type": "code",
   "execution_count": 8,
   "id": "773721d1-084e-4875-be30-a79388c872a1",
   "metadata": {},
   "outputs": [
    {
     "data": {
      "text/html": [
       "<div>\n",
       "<style scoped>\n",
       "    .dataframe tbody tr th:only-of-type {\n",
       "        vertical-align: middle;\n",
       "    }\n",
       "\n",
       "    .dataframe tbody tr th {\n",
       "        vertical-align: top;\n",
       "    }\n",
       "\n",
       "    .dataframe thead th {\n",
       "        text-align: right;\n",
       "    }\n",
       "</style>\n",
       "<table border=\"1\" class=\"dataframe\">\n",
       "  <thead>\n",
       "    <tr style=\"text-align: right;\">\n",
       "      <th></th>\n",
       "      <th>ArticleId</th>\n",
       "      <th>Text</th>\n",
       "      <th>Category</th>\n",
       "    </tr>\n",
       "  </thead>\n",
       "  <tbody>\n",
       "    <tr>\n",
       "      <th>0</th>\n",
       "      <td>1833</td>\n",
       "      <td>worldcom ex-boss launches defence lawyers defe...</td>\n",
       "      <td>business</td>\n",
       "    </tr>\n",
       "    <tr>\n",
       "      <th>1</th>\n",
       "      <td>154</td>\n",
       "      <td>german business confidence slides german busin...</td>\n",
       "      <td>business</td>\n",
       "    </tr>\n",
       "    <tr>\n",
       "      <th>2</th>\n",
       "      <td>1101</td>\n",
       "      <td>bbc poll indicates economic gloom citizens in ...</td>\n",
       "      <td>business</td>\n",
       "    </tr>\n",
       "    <tr>\n",
       "      <th>3</th>\n",
       "      <td>1976</td>\n",
       "      <td>lifestyle  governs mobile choice  faster  bett...</td>\n",
       "      <td>tech</td>\n",
       "    </tr>\n",
       "    <tr>\n",
       "      <th>4</th>\n",
       "      <td>917</td>\n",
       "      <td>enron bosses in $168m payout eighteen former e...</td>\n",
       "      <td>business</td>\n",
       "    </tr>\n",
       "  </tbody>\n",
       "</table>\n",
       "</div>"
      ],
      "text/plain": [
       "   ArticleId                                               Text  Category\n",
       "0       1833  worldcom ex-boss launches defence lawyers defe...  business\n",
       "1        154  german business confidence slides german busin...  business\n",
       "2       1101  bbc poll indicates economic gloom citizens in ...  business\n",
       "3       1976  lifestyle  governs mobile choice  faster  bett...      tech\n",
       "4        917  enron bosses in $168m payout eighteen former e...  business"
      ]
     },
     "execution_count": 8,
     "metadata": {},
     "output_type": "execute_result"
    }
   ],
   "source": [
    "df1.head()"
   ]
  },
  {
   "cell_type": "code",
   "execution_count": 7,
   "id": "17243ba1-ecea-4d8f-b369-60cff0ee4567",
   "metadata": {},
   "outputs": [],
   "source": [
    "def get_sentence_vector(query):\n",
    "    query_vec = smodel.encode([query])[0]\n",
    "    return query_vec"
   ]
  },
  {
   "cell_type": "code",
   "execution_count": 10,
   "id": "6c5196b6-d753-4fba-b270-d5100a2314d4",
   "metadata": {},
   "outputs": [],
   "source": [
    "%%time\n",
    "df1['textVec'] = df1['Text'].apply(lambda x: get_sentence_vector(x))"
   ]
  },
  {
   "cell_type": "code",
   "execution_count": 23,
   "id": "a4300343-2e7c-4728-b944-504e8d578e17",
   "metadata": {},
   "outputs": [
    {
     "data": {
      "text/html": [
       "<div>\n",
       "<style scoped>\n",
       "    .dataframe tbody tr th:only-of-type {\n",
       "        vertical-align: middle;\n",
       "    }\n",
       "\n",
       "    .dataframe tbody tr th {\n",
       "        vertical-align: top;\n",
       "    }\n",
       "\n",
       "    .dataframe thead th {\n",
       "        text-align: right;\n",
       "    }\n",
       "</style>\n",
       "<table border=\"1\" class=\"dataframe\">\n",
       "  <thead>\n",
       "    <tr style=\"text-align: right;\">\n",
       "      <th></th>\n",
       "      <th>ArticleId</th>\n",
       "      <th>Text</th>\n",
       "      <th>Category</th>\n",
       "      <th>textVec</th>\n",
       "    </tr>\n",
       "  </thead>\n",
       "  <tbody>\n",
       "    <tr>\n",
       "      <th>0</th>\n",
       "      <td>1833</td>\n",
       "      <td>worldcom ex-boss launches defence lawyers defe...</td>\n",
       "      <td>business</td>\n",
       "      <td>[0.0763296, -0.21301335, 0.1430163, -0.6761660...</td>\n",
       "    </tr>\n",
       "    <tr>\n",
       "      <th>1</th>\n",
       "      <td>154</td>\n",
       "      <td>german business confidence slides german busin...</td>\n",
       "      <td>business</td>\n",
       "      <td>[-0.6852783, -0.17200232, 0.65315604, -1.12945...</td>\n",
       "    </tr>\n",
       "    <tr>\n",
       "      <th>2</th>\n",
       "      <td>1101</td>\n",
       "      <td>bbc poll indicates economic gloom citizens in ...</td>\n",
       "      <td>business</td>\n",
       "      <td>[-0.3528403, -1.0351946, 0.756114, -0.704674, ...</td>\n",
       "    </tr>\n",
       "    <tr>\n",
       "      <th>3</th>\n",
       "      <td>1976</td>\n",
       "      <td>lifestyle  governs mobile choice  faster  bett...</td>\n",
       "      <td>technology</td>\n",
       "      <td>[-0.40892917, 0.105635695, 0.47965625, -0.8354...</td>\n",
       "    </tr>\n",
       "    <tr>\n",
       "      <th>4</th>\n",
       "      <td>917</td>\n",
       "      <td>enron bosses in $168m payout eighteen former e...</td>\n",
       "      <td>business</td>\n",
       "      <td>[0.37398607, -0.81744885, 0.3845015, -0.735170...</td>\n",
       "    </tr>\n",
       "  </tbody>\n",
       "</table>\n",
       "</div>"
      ],
      "text/plain": [
       "   ArticleId                                               Text    Category  \\\n",
       "0       1833  worldcom ex-boss launches defence lawyers defe...    business   \n",
       "1        154  german business confidence slides german busin...    business   \n",
       "2       1101  bbc poll indicates economic gloom citizens in ...    business   \n",
       "3       1976  lifestyle  governs mobile choice  faster  bett...  technology   \n",
       "4        917  enron bosses in $168m payout eighteen former e...    business   \n",
       "\n",
       "                                             textVec  \n",
       "0  [0.0763296, -0.21301335, 0.1430163, -0.6761660...  \n",
       "1  [-0.6852783, -0.17200232, 0.65315604, -1.12945...  \n",
       "2  [-0.3528403, -1.0351946, 0.756114, -0.704674, ...  \n",
       "3  [-0.40892917, 0.105635695, 0.47965625, -0.8354...  \n",
       "4  [0.37398607, -0.81744885, 0.3845015, -0.735170...  "
      ]
     },
     "execution_count": 23,
     "metadata": {},
     "output_type": "execute_result"
    }
   ],
   "source": [
    "df1.head()"
   ]
  },
  {
   "cell_type": "code",
   "execution_count": 26,
   "id": "49b90236-277c-4439-a46d-fad045fc043e",
   "metadata": {},
   "outputs": [],
   "source": [
    "def std_category(x):\n",
    "    if(x == 'tech'):\n",
    "        return 'technology'\n",
    "    elif (x == 'sport'):\n",
    "        return 'sports'\n",
    "    else:\n",
    "        return x"
   ]
  },
  {
   "cell_type": "code",
   "execution_count": 27,
   "id": "7e374907-4cba-49ab-80dd-c834b74ad0dc",
   "metadata": {},
   "outputs": [],
   "source": [
    "df1['Category'] = df1['Category'].apply(std_category)"
   ]
  },
  {
   "cell_type": "code",
   "execution_count": 28,
   "id": "e3a52204-ad8b-453f-af6d-ef861b090e15",
   "metadata": {},
   "outputs": [],
   "source": [
    "def get_cosine_sim(x, Y):\n",
    "    y = smodel.encode([Y])[0]\n",
    "    \n",
    "    return cosine(x, y)"
   ]
  },
  {
   "cell_type": "code",
   "execution_count": 24,
   "id": "6a26737c-b3b9-4a56-9d5f-319aacec01ac",
   "metadata": {},
   "outputs": [],
   "source": [
    "df1['cdist_business'] = df1['textVec'].apply(lambda x: get_cosine_sim(x, 'business'))"
   ]
  },
  {
   "cell_type": "code",
   "execution_count": 29,
   "id": "6bfe981c-768e-4072-a136-b9fb31de2041",
   "metadata": {},
   "outputs": [
    {
     "data": {
      "text/plain": [
       "array(['business', 'technology', 'politics', 'sports', 'entertainment'],\n",
       "      dtype=object)"
      ]
     },
     "execution_count": 29,
     "metadata": {},
     "output_type": "execute_result"
    }
   ],
   "source": [
    "df1['Category'].unique()"
   ]
  },
  {
   "cell_type": "code",
   "execution_count": 30,
   "id": "fd63054a-3c61-45bf-b28a-294c1361e5f2",
   "metadata": {},
   "outputs": [],
   "source": [
    "df1['cdist_technology'] = df1['textVec'].apply(lambda x: get_cosine_sim(x, 'technology'))"
   ]
  },
  {
   "cell_type": "code",
   "execution_count": 31,
   "id": "54e23d8e-6732-4b27-b3eb-094ec8b3e383",
   "metadata": {},
   "outputs": [],
   "source": [
    "df1['cdist_politics'] = df1['textVec'].apply(lambda x: get_cosine_sim(x, 'politics'))"
   ]
  },
  {
   "cell_type": "code",
   "execution_count": 32,
   "id": "d759844a-ac53-4c44-8ced-e563bc486eb7",
   "metadata": {},
   "outputs": [],
   "source": [
    "df1['cdist_sports'] = df1['textVec'].apply(lambda x: get_cosine_sim(x, 'sports'))"
   ]
  },
  {
   "cell_type": "code",
   "execution_count": 33,
   "id": "9aa6e86e-08cc-49c9-b8a5-d5e24efd537c",
   "metadata": {},
   "outputs": [],
   "source": [
    "df1['cdist_entertainment'] = df1['textVec'].apply(lambda x: get_cosine_sim(x, 'entertainment'))"
   ]
  },
  {
   "cell_type": "code",
   "execution_count": 38,
   "id": "637dc4f5-b549-46f1-8b42-742d84e89cfa",
   "metadata": {},
   "outputs": [],
   "source": [
    "def get_prediction(in_row):\n",
    "    min_dist = 99999999\n",
    "    label = \"\"\n",
    "    for i in ['cdist_business', 'cdist_technology', 'cdist_politics', 'cdist_sports', 'cdist_entertainment']:\n",
    "        d = in_row[i]\n",
    "        if d < min_dist:\n",
    "            min_dist = d\n",
    "            label = i.split('_')[1]\n",
    "    return label"
   ]
  },
  {
   "cell_type": "code",
   "execution_count": 39,
   "id": "f3d92cb6-5b74-4b69-9ae2-413ed85154b0",
   "metadata": {},
   "outputs": [],
   "source": [
    "df1['prediction'] = df1.apply(lambda in_row: get_prediction(in_row), axis = 1)"
   ]
  },
  {
   "cell_type": "code",
   "execution_count": 41,
   "id": "cb52f27d-f7fa-4102-b749-9a3e8184e0b9",
   "metadata": {},
   "outputs": [
    {
     "data": {
      "text/html": [
       "<div>\n",
       "<style scoped>\n",
       "    .dataframe tbody tr th:only-of-type {\n",
       "        vertical-align: middle;\n",
       "    }\n",
       "\n",
       "    .dataframe tbody tr th {\n",
       "        vertical-align: top;\n",
       "    }\n",
       "\n",
       "    .dataframe thead th {\n",
       "        text-align: right;\n",
       "    }\n",
       "</style>\n",
       "<table border=\"1\" class=\"dataframe\">\n",
       "  <thead>\n",
       "    <tr style=\"text-align: right;\">\n",
       "      <th></th>\n",
       "      <th>ArticleId</th>\n",
       "      <th>Text</th>\n",
       "      <th>Category</th>\n",
       "      <th>textVec</th>\n",
       "      <th>cdist_business</th>\n",
       "      <th>cdist_technology</th>\n",
       "      <th>cdist_politics</th>\n",
       "      <th>cdist_sports</th>\n",
       "      <th>cdist_entertainment</th>\n",
       "      <th>prediction</th>\n",
       "    </tr>\n",
       "  </thead>\n",
       "  <tbody>\n",
       "    <tr>\n",
       "      <th>0</th>\n",
       "      <td>1833</td>\n",
       "      <td>worldcom ex-boss launches defence lawyers defe...</td>\n",
       "      <td>business</td>\n",
       "      <td>[0.0763296, -0.21301335, 0.1430163, -0.6761660...</td>\n",
       "      <td>1.054001</td>\n",
       "      <td>1.186766</td>\n",
       "      <td>0.968711</td>\n",
       "      <td>1.159060</td>\n",
       "      <td>1.213088</td>\n",
       "      <td>politics</td>\n",
       "    </tr>\n",
       "    <tr>\n",
       "      <th>1</th>\n",
       "      <td>154</td>\n",
       "      <td>german business confidence slides german busin...</td>\n",
       "      <td>business</td>\n",
       "      <td>[-0.6852783, -0.17200232, 0.65315604, -1.12945...</td>\n",
       "      <td>1.038498</td>\n",
       "      <td>1.186860</td>\n",
       "      <td>1.000978</td>\n",
       "      <td>1.192701</td>\n",
       "      <td>1.182215</td>\n",
       "      <td>politics</td>\n",
       "    </tr>\n",
       "    <tr>\n",
       "      <th>2</th>\n",
       "      <td>1101</td>\n",
       "      <td>bbc poll indicates economic gloom citizens in ...</td>\n",
       "      <td>business</td>\n",
       "      <td>[-0.3528403, -1.0351946, 0.756114, -0.704674, ...</td>\n",
       "      <td>1.109749</td>\n",
       "      <td>1.203442</td>\n",
       "      <td>0.975895</td>\n",
       "      <td>1.153227</td>\n",
       "      <td>1.170546</td>\n",
       "      <td>politics</td>\n",
       "    </tr>\n",
       "    <tr>\n",
       "      <th>3</th>\n",
       "      <td>1976</td>\n",
       "      <td>lifestyle  governs mobile choice  faster  bett...</td>\n",
       "      <td>technology</td>\n",
       "      <td>[-0.40892917, 0.105635695, 0.47965625, -0.8354...</td>\n",
       "      <td>0.954146</td>\n",
       "      <td>1.072351</td>\n",
       "      <td>0.903048</td>\n",
       "      <td>1.059741</td>\n",
       "      <td>1.004190</td>\n",
       "      <td>politics</td>\n",
       "    </tr>\n",
       "    <tr>\n",
       "      <th>4</th>\n",
       "      <td>917</td>\n",
       "      <td>enron bosses in $168m payout eighteen former e...</td>\n",
       "      <td>business</td>\n",
       "      <td>[0.37398607, -0.81744885, 0.3845015, -0.735170...</td>\n",
       "      <td>1.064061</td>\n",
       "      <td>1.261450</td>\n",
       "      <td>1.027481</td>\n",
       "      <td>1.202500</td>\n",
       "      <td>1.216041</td>\n",
       "      <td>politics</td>\n",
       "    </tr>\n",
       "  </tbody>\n",
       "</table>\n",
       "</div>"
      ],
      "text/plain": [
       "   ArticleId                                               Text    Category  \\\n",
       "0       1833  worldcom ex-boss launches defence lawyers defe...    business   \n",
       "1        154  german business confidence slides german busin...    business   \n",
       "2       1101  bbc poll indicates economic gloom citizens in ...    business   \n",
       "3       1976  lifestyle  governs mobile choice  faster  bett...  technology   \n",
       "4        917  enron bosses in $168m payout eighteen former e...    business   \n",
       "\n",
       "                                             textVec  cdist_business  \\\n",
       "0  [0.0763296, -0.21301335, 0.1430163, -0.6761660...        1.054001   \n",
       "1  [-0.6852783, -0.17200232, 0.65315604, -1.12945...        1.038498   \n",
       "2  [-0.3528403, -1.0351946, 0.756114, -0.704674, ...        1.109749   \n",
       "3  [-0.40892917, 0.105635695, 0.47965625, -0.8354...        0.954146   \n",
       "4  [0.37398607, -0.81744885, 0.3845015, -0.735170...        1.064061   \n",
       "\n",
       "   cdist_technology  cdist_politics  cdist_sports  cdist_entertainment  \\\n",
       "0          1.186766        0.968711      1.159060             1.213088   \n",
       "1          1.186860        1.000978      1.192701             1.182215   \n",
       "2          1.203442        0.975895      1.153227             1.170546   \n",
       "3          1.072351        0.903048      1.059741             1.004190   \n",
       "4          1.261450        1.027481      1.202500             1.216041   \n",
       "\n",
       "  prediction  \n",
       "0   politics  \n",
       "1   politics  \n",
       "2   politics  \n",
       "3   politics  \n",
       "4   politics  "
      ]
     },
     "execution_count": 41,
     "metadata": {},
     "output_type": "execute_result"
    }
   ],
   "source": [
    "df1.head()"
   ]
  },
  {
   "cell_type": "code",
   "execution_count": 47,
   "id": "95133b68-964f-4023-bd7a-006bfce8da24",
   "metadata": {},
   "outputs": [
    {
     "name": "stdout",
     "output_type": "stream",
     "text": [
      "               precision    recall  f1-score   support\n",
      "\n",
      "     business       0.60      0.20      0.30       336\n",
      "entertainment       0.32      0.08      0.12       273\n",
      "     politics       0.22      1.00      0.36       274\n",
      "       sports       0.79      0.12      0.21       346\n",
      "   technology       0.85      0.04      0.08       261\n",
      "\n",
      "     accuracy                           0.28      1490\n",
      "    macro avg       0.55      0.29      0.22      1490\n",
      " weighted avg       0.57      0.28      0.22      1490\n",
      "\n"
     ]
    }
   ],
   "source": [
    "target_names = ['business', 'entertainment', 'politics', 'sports', 'technology']\n",
    "print(classification_report(df1['Category'], df1['prediction'], target_names=target_names))"
   ]
  },
  {
   "cell_type": "code",
   "execution_count": 45,
   "id": "73c6b5ec-8f07-4570-b49e-b9b8c278500f",
   "metadata": {},
   "outputs": [],
   "source": [
    "from collections import Counter"
   ]
  },
  {
   "cell_type": "code",
   "execution_count": 46,
   "id": "79671619-e26e-4ae4-94fe-4e65039b2015",
   "metadata": {},
   "outputs": [
    {
     "data": {
      "text/plain": [
       "Counter({'business': 336,\n",
       "         'technology': 261,\n",
       "         'politics': 274,\n",
       "         'sports': 346,\n",
       "         'entertainment': 273})"
      ]
     },
     "execution_count": 46,
     "metadata": {},
     "output_type": "execute_result"
    }
   ],
   "source": [
    "Counter(df1['Category'])"
   ]
  },
  {
   "cell_type": "code",
   "execution_count": null,
   "id": "1770e386-7a70-498f-87eb-67f243617b9e",
   "metadata": {},
   "outputs": [],
   "source": []
  }
 ],
 "metadata": {
  "kernelspec": {
   "display_name": "sentence_transformers",
   "language": "python",
   "name": "sentence_transformers"
  },
  "language_info": {
   "codemirror_mode": {
    "name": "ipython",
    "version": 3
   },
   "file_extension": ".py",
   "mimetype": "text/x-python",
   "name": "python",
   "nbconvert_exporter": "python",
   "pygments_lexer": "ipython3",
   "version": "3.9.13"
  }
 },
 "nbformat": 4,
 "nbformat_minor": 5
}
